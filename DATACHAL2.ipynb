{
  "nbformat": 4,
  "nbformat_minor": 0,
  "metadata": {
    "colab": {
      "name": "Untitled0.ipynb",
      "private_outputs": true,
      "provenance": [],
      "collapsed_sections": []
    },
    "kernelspec": {
      "name": "python3",
      "display_name": "Python 3"
    },
    "accelerator": "GPU"
  },
  "cells": [
    {
      "cell_type": "code",
      "metadata": {
        "id": "4_Aas5S9Sqy1"
      },
      "source": [
        "import numpy as np\n",
        "import pandas as pd\n",
        "import itertools\n",
        "from sklearn.model_selection import train_test_split\n",
        "\n",
        "from keras.models import Sequential, load_model\n",
        "from keras.layers import Dense, Dropout, Flatten\n",
        "from keras.layers import Conv2D, MaxPooling2D, BatchNormalization\n",
        "from keras.optimizers import Adam\n",
        "from keras.preprocessing.image import ImageDataGenerator\n",
        "from keras.callbacks import ReduceLROnPlateau, LearningRateScheduler\n",
        "from keras.utils import to_categorical\n"
      ],
      "execution_count": null,
      "outputs": []
    },
    {
      "cell_type": "code",
      "metadata": {
        "id": "mfvGDnzWTLnr"
      },
      "source": [
        "train_data = pd.read_csv('/content/image_train_Kaggle.csv')\n",
        "test_data = pd.read_csv('/content/image_test_Kaggle.csv')\n"
      ],
      "execution_count": null,
      "outputs": []
    },
    {
      "cell_type": "code",
      "metadata": {
        "id": "E8J3hY3_fYTZ"
      },
      "source": [
        "Y = train_data.iloc[:,0]\n",
        "X = train_data.iloc[:,1:]\n",
        "xtrain, xtest, ytrain, ytest = train_test_split(X, Y, test_size=0.1, random_state= 66)"
      ],
      "execution_count": null,
      "outputs": []
    },
    {
      "cell_type": "code",
      "metadata": {
        "id": "aHUvnsRsWruJ"
      },
      "source": [
        "xtrain = xtrain.values.reshape(-1, 28, 28,1).astype(\"float\")/255\n",
        "xtest = xtest.values.reshape(-1, 28, 28,1).astype(\"float\")/255\n",
        "\n",
        "\n",
        "ytrain = to_categorical(ytrain)\n",
        "ytest = to_categorical(ytest)"
      ],
      "execution_count": null,
      "outputs": []
    },
    {
      "cell_type": "code",
      "metadata": {
        "id": "ki9g15S6Vwq7"
      },
      "source": [
        "model = Sequential()\n",
        "model.add(Conv2D(filters = 32, kernel_size=(3,3), activation='relu',\n",
        "                 kernel_initializer = 'he_normal', strides=1,\n",
        "                 padding='same',\n",
        "                 input_shape = (28,28,1)))\n",
        "model.add(BatchNormalization())\n",
        "\n",
        "model.add(Conv2D(filters= 64, kernel_size=(3,3), activation = 'relu', strides = 1,\n",
        "                 padding = 'same',\n",
        "                 input_shape=(28,28,1)))\n",
        "model.add(BatchNormalization())\n",
        "model.add(MaxPooling2D(pool_size=(2,2)))\n",
        "model.add(Dropout(0.2))\n",
        "\n",
        "model.add(Conv2D(filters=128, kernel_size=(3,3), activation ='relu', strides = 1,\n",
        "                 padding='same',\n",
        "                 input_shape = (28,28,1)))\n",
        "model.add(MaxPooling2D(pool_size=(2,2)))\n",
        "model.add(Dropout(0.2))\n",
        "\n",
        "model.add(Conv2D(filters = 128, kernel_size=(3,3), activation='relu',\n",
        "                 strides = 1, kernel_initializer = 'he_normal',\n",
        "                 padding='same', data_format = 'channels_last',\n",
        "                 input_shape = (28,28,1)))\n",
        "model.add(BatchNormalization())\n",
        "model.add(Dropout(0.2))\n",
        "\n",
        "model.add(Conv2D(filters=256, kernel_size=(3,3), activation='relu',\n",
        "                 strides=1, padding='same', data_format='channels_last',\n",
        "                 input_shape=(28,28,1)))\n",
        "model.add(BatchNormalization())\n",
        "model.add(Dropout(0.2))\n",
        "\n",
        "model.add(Conv2D(filters = 256, kernel_size=(3,3), activation='relu',\n",
        "                 strides=1,kernel_initializer = 'he_normal',\n",
        "                 padding = 'same', input_shape = (28,28,1) ))\n",
        "model.add(BatchNormalization())\n",
        "model.add(MaxPooling2D(pool_size=(2,2)))\n",
        "\n",
        "\n",
        "\n",
        "\n",
        "\n",
        "model.add(Flatten())\n",
        "model.add(Dense(2048, activation='relu'))\n",
        "model.add(BatchNormalization())\n",
        "model.add(Dropout(0.45))\n",
        "model.add(Dense(512, activation='relu'))\n",
        "model.add(BatchNormalization())\n",
        "model.add(Dropout(0.5))\n",
        "model.add(Dense(10, activation='softmax'))\n"
      ],
      "execution_count": null,
      "outputs": []
    },
    {
      "cell_type": "code",
      "metadata": {
        "id": "heDHWrNWZrTR"
      },
      "source": [
        "optimizer= Adam(lr=0.0001, beta_1 = 0.99, beta_2 = 0.99)\n",
        "#optimizer = SGD(lr = 0.001, momentum=0.99)"
      ],
      "execution_count": null,
      "outputs": []
    },
    {
      "cell_type": "code",
      "metadata": {
        "id": "T4rfxovKZmdC"
      },
      "source": [
        "model.compile(optimizer=optimizer, loss='categorical_crossentropy', metrics=[\"accuracy\"])\n"
      ],
      "execution_count": null,
      "outputs": []
    },
    {
      "cell_type": "code",
      "metadata": {
        "id": "AEQ8bDtIARi_"
      },
      "source": [
        "model.summary()"
      ],
      "execution_count": null,
      "outputs": []
    },
    {
      "cell_type": "code",
      "metadata": {
        "id": "bxNgNoi5JPjm"
      },
      "source": [
        "from tensorflow.keras.callbacks import EarlyStopping, ReduceLROnPlateau\n",
        "reduce_lr = ReduceLROnPlateau(monitor = 'val_loss', factor=0.2, patience = 3, min_lr = 0.0001)\n",
        "\n",
        "reduce_lr = LearningRateScheduler(lambda x: 1e-3*0.9**x)"
      ],
      "execution_count": null,
      "outputs": []
    },
    {
      "cell_type": "code",
      "metadata": {
        "id": "7VCM7UIttNcU"
      },
      "source": [
        "datagen = ImageDataGenerator(\n",
        "    rotation_range=10,\n",
        "    zoom_range=0.2,\n",
        "    shear_range=0.2,\n",
        "    width_shift_range = 0.1,\n",
        "    height_shift_range=0.1,\n",
        "    vertical_flip=True\n",
        "    )\n"
      ],
      "execution_count": null,
      "outputs": []
    },
    {
      "cell_type": "code",
      "metadata": {
        "id": "NI1OEkBJuBeU"
      },
      "source": [
        "#datagen.fit(xtrain)"
      ],
      "execution_count": null,
      "outputs": []
    },
    {
      "cell_type": "code",
      "metadata": {
        "id": "fDb40ZumuHXG"
      },
      "source": [
        "\n"
      ],
      "execution_count": null,
      "outputs": []
    },
    {
      "cell_type": "code",
      "metadata": {
        "id": "i6rMKlDsuLSA"
      },
      "source": [
        "data_length = xtrain.shape[0]\n",
        "model.fit_generator(datagen.flow(xtrain, ytrain, \n",
        "                                           batch_size=32),\n",
        "                              epochs = 300,\n",
        "                              validation_data = (xtest, ytest), verbose=2,\n",
        "                              steps_per_epoch = data_length // 32,\n",
        "                              callbacks = [reduce_lr])"
      ],
      "execution_count": null,
      "outputs": []
    },
    {
      "cell_type": "code",
      "metadata": {
        "id": "A8c8Vmu8zzz4"
      },
      "source": [
        "test_school = pd.read_csv(\"/content/image_test_Kaggle.csv\")\n",
        "ID = test_school['ID']\n",
        "ID = ID.to_numpy()\n",
        "test_school.drop('ID', axis = 1, inplace=True)\n",
        "test_school = test_school.values.reshape((-1,28,28,1))\n",
        "test_school = test_school.astype('float32')/255"
      ],
      "execution_count": null,
      "outputs": []
    },
    {
      "cell_type": "code",
      "metadata": {
        "id": "6rdAIfVv2rh1"
      },
      "source": [
        "\n",
        "ypred = model.predict(test_school)\n",
        "y_pred = []\n",
        "for i in range(len(ypred)):\n",
        "  y_pred += [np.argmax(ypred[i])]\n",
        "\n",
        "\n",
        "\n"
      ],
      "execution_count": null,
      "outputs": []
    },
    {
      "cell_type": "code",
      "metadata": {
        "id": "rMUXBYfm4UB8"
      },
      "source": [
        "file = open('subfile_2.csv', 'w')\n",
        "file.write('ID,label\\n')\n",
        "for i in range(len(y_pred)):\n",
        "  file.write(\"{},{}\\n\".format(ID[i], y_pred[i]))\n",
        "file.close"
      ],
      "execution_count": null,
      "outputs": []
    },
    {
      "cell_type": "code",
      "metadata": {
        "id": "ENwlnhME47p4"
      },
      "source": [
        ""
      ],
      "execution_count": null,
      "outputs": []
    },
    {
      "cell_type": "code",
      "metadata": {
        "id": "RdXjFh5959QB"
      },
      "source": [
        ""
      ],
      "execution_count": null,
      "outputs": []
    }
  ]
}